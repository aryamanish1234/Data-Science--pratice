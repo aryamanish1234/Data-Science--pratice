{
 "cells": [
  {
   "cell_type": "code",
   "execution_count": 1,
   "id": "66cd982f-0a2e-4ac6-ac28-5315d181743c",
   "metadata": {},
   "outputs": [
    {
     "name": "stdout",
     "output_type": "stream",
     "text": [
      "Name: John, Age: 25\n",
      "Name: Jane, Age: 30\n"
     ]
    }
   ],
   "source": [
    "#Explain Class and Object with respect to Object-Oriented Programming. Give a suitable example.\n",
    "\n",
    "#Class \n",
    "\n",
    "###A class is a blueprint or a template that defines the properties and methods of a specific \n",
    "#type of object. It can be thought of as a set of instructions for creating an object of a certain type\n",
    "##In OOP, a class serves as a template for creating objects that belong to that class.\n",
    "\n",
    "#Objects \n",
    "#An object is an instance of a class. It is a real-world entity that has state and behavior \n",
    "#An object has properties, which are the characteristics of the object, and methods which are the operations that can be performed on the object\n",
    "\n",
    "# Define a class called Person\n",
    "class Person:\n",
    "    # Define the __init__ method to initialize the object\n",
    "    def __init__(self, name, age):\n",
    "        self.name = name\n",
    "        self.age = age\n",
    "\n",
    "    # Define a method to print the person's details\n",
    "    def print_details(self):\n",
    "        print(f\"Name: {self.name}, Age: {self.age}\")\n",
    "\n",
    "# Create two objects of the Person class\n",
    "person1 = Person(\"John\", 25)\n",
    "person2 = Person(\"Jane\", 30)\n",
    "\n",
    "person1.print_details() \n",
    "person2.print_details()  "
   ]
  },
  {
   "cell_type": "code",
   "execution_count": 2,
   "id": "df1a2de7-18d9-4a0b-b29c-0fd293395ffb",
   "metadata": {},
   "outputs": [],
   "source": [
    "#Name the four pillars of OOPs.\n",
    "#Encapsulation\n",
    "#Inheritance\n",
    "#Polymorphism\n",
    "#Abstraction"
   ]
  },
  {
   "cell_type": "code",
   "execution_count": 3,
   "id": "17d57ac1-ac42-4609-a694-3d3eec8f2e73",
   "metadata": {},
   "outputs": [
    {
     "name": "stdout",
     "output_type": "stream",
     "text": [
      "Toyota\n",
      "Camry\n",
      "2020\n"
     ]
    }
   ],
   "source": [
    "#When an object is created, the __init__() function is automatically called, and any values passed as arguments are assigned to the object's attributes\n",
    "#The self parameter refers to the object itself and is used to access its attributes and methods\n",
    "\n",
    "#Example \n",
    "# Define a class called Car\n",
    "class Car:\n",
    "    # Define the __init__ method to initialize the object\n",
    "    def __init__(self, make, model, year):\n",
    "        self.make = make\n",
    "        self.model = model\n",
    "        self.year = year\n",
    "\n",
    "# Create an object of the Car class\n",
    "my_car = Car(\"Toyota\", \"Camry\", 2020)\n",
    "print(my_car.make)   \n",
    "print(my_car.model) \n",
    "print(my_car.year)\n"
   ]
  },
  {
   "cell_type": "code",
   "execution_count": 4,
   "id": "d9915f0d-1c4d-4b32-b516-578c4fbf8655",
   "metadata": {},
   "outputs": [
    {
     "name": "stdout",
     "output_type": "stream",
     "text": [
      "Name: John\n",
      "Age: 30\n"
     ]
    }
   ],
   "source": [
    "#Why self is used in OOPs?\n",
    "\n",
    "#In object-oriented programming (OOP), self is a special parameter that refers to the instance of a class\n",
    "#When a method is called on an object, the object itself is passed as the first argument to the method\n",
    "#By convention, this parameter is named self to indicate that it refers to the instance of the class that the method is called on\n",
    "#The self parameter is included in the method definition but is not passed as an argument when the method is called\n",
    "\n",
    "# Define a class called Person\n",
    "class Person:\n",
    "    # Define the __init__ method to initialize the object\n",
    "    def __init__(self, name, age):\n",
    "        self.name = name\n",
    "        self.age = age\n",
    "\n",
    "    # Define a method to print the person's name and age\n",
    "    def print_details(self):\n",
    "        print(\"Name:\", self.name)\n",
    "        print(\"Age:\", self.age)\n",
    "\n",
    "person1 = Person(\"John\", 30)\n",
    "\n",
    "\n",
    "person1.print_details()\n"
   ]
  },
  {
   "cell_type": "code",
   "execution_count": 6,
   "id": "baed0729-3576-4fa9-ad9d-de9ccc8207e2",
   "metadata": {},
   "outputs": [
    {
     "name": "stdout",
     "output_type": "stream",
     "text": [
      "Meow!\n"
     ]
    }
   ],
   "source": [
    "#Inheritance is a concept in object-oriented programming (OOP) that allows a class to inherit properties and methods from another class\n",
    "#The class that inherits from another class is called the derived class or subclass, and the class that is inherited from is called the base class or superclass.\n",
    "\n",
    "\n",
    "#There are four types of inheritance in OOP\n",
    "#Single Inheritance\n",
    "# Define a base class called Animal\n",
    "class Animal:\n",
    "    def __init__(self, name):\n",
    "        self.name = name\n",
    "\n",
    "    def make_sound(self):\n",
    "        pass\n",
    "\n",
    "# Define a derived class called Cat that inherits from Animal\n",
    "class Cat(Animal):\n",
    "    def __init__(self, name):\n",
    "        super().__init__(name)\n",
    "\n",
    "    def make_sound(self):\n",
    "        print(\"Meow!\")\n",
    "\n",
    "# Create an object of the Cat class\n",
    "my_cat = Cat(\"Fluffy\")\n",
    "\n",
    "# Call the make_sound method on the object\n",
    "my_cat.make_sound()    \n",
    "\n",
    "\n",
    "\n",
    "\n",
    "\n",
    "\n"
   ]
  },
  {
   "cell_type": "code",
   "execution_count": 7,
   "id": "b866ebbe-14f0-4959-b10d-b50879faad26",
   "metadata": {},
   "outputs": [
    {
     "name": "stdout",
     "output_type": "stream",
     "text": [
      "Method A\n",
      "Method B\n"
     ]
    }
   ],
   "source": [
    "#Multiple inheritance: When a class inherits properties and methods from multiple base classes, it is called multiple inheritance\n",
    "# Define a base class called A\n",
    "class A:\n",
    "    def method_a(self):\n",
    "        print(\"Method A\")\n",
    "\n",
    "# Define another base class called B\n",
    "class B:\n",
    "    def method_b(self):\n",
    "        print(\"Method B\")\n",
    "\n",
    "# Define a derived class called C that inherits from A and B\n",
    "class C(A, B):\n",
    "    pass\n",
    "\n",
    "# Create an object of the C class\n",
    "my_object = C()\n",
    "\n",
    "# Call the methods on the object\n",
    "my_object.method_a()    \n",
    "my_object.method_b()  "
   ]
  },
  {
   "cell_type": "code",
   "execution_count": 8,
   "id": "8742c32e-3b89-4b62-8716-b18586a5283d",
   "metadata": {},
   "outputs": [
    {
     "name": "stdout",
     "output_type": "stream",
     "text": [
      "Method A\n"
     ]
    }
   ],
   "source": [
    "#Multi-level inheritance\n",
    "#When a class inherits properties and methods from a base class that itself inherits from another base class, it is called multi-level inheritance\n",
    "\n",
    "# Define a base class called A\n",
    "class A:\n",
    "    def method_a(self):\n",
    "        print(\"Method A\")\n",
    "\n",
    "# Define a derived class called B that inherits from A\n",
    "class B(A):\n",
    "    pass\n",
    "\n",
    "# Define another derived class called C that inherits from B\n",
    "class C(B):\n",
    "    pass\n",
    "\n",
    "# Create an object of the C class\n",
    "my_object = C()\n",
    "\n",
    "# Call the method on the object\n",
    "my_object.method_a()   \n"
   ]
  },
  {
   "cell_type": "code",
   "execution_count": 11,
   "id": "687e8e2c-6fed-48d0-9b09-a07465a67f80",
   "metadata": {},
   "outputs": [],
   "source": [
    "#Hierarchical inheritance\n",
    "#When a class is inherited by multiple derived classes, it is called hierarchical inheritance\n",
    "\n",
    "\n",
    "class Shape:\n",
    "    def __init__(self, color):\n",
    "        self.color = color\n",
    "\n",
    "    def draw(self):\n",
    "        pass\n",
    "\n"
   ]
  },
  {
   "cell_type": "code",
   "execution_count": null,
   "id": "d13709d0-123e-4585-b5ae-431c01db48e9",
   "metadata": {},
   "outputs": [],
   "source": []
  }
 ],
 "metadata": {
  "kernelspec": {
   "display_name": "Python 3 (ipykernel)",
   "language": "python",
   "name": "python3"
  },
  "language_info": {
   "codemirror_mode": {
    "name": "ipython",
    "version": 3
   },
   "file_extension": ".py",
   "mimetype": "text/x-python",
   "name": "python",
   "nbconvert_exporter": "python",
   "pygments_lexer": "ipython3",
   "version": "3.10.8"
  }
 },
 "nbformat": 4,
 "nbformat_minor": 5
}
